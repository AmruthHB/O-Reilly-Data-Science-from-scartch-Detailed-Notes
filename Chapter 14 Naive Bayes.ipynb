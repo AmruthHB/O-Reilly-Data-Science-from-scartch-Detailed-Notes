{
 "cells": [
  {
   "cell_type": "markdown",
   "metadata": {},
   "source": [
    "## Chapter 14: Naive Bayes"
   ]
  },
  {
   "cell_type": "markdown",
   "metadata": {},
   "source": [
    "- Naive Bayes used in many cases for things like spam filtering.\n",
    "\n",
    "#### Intro: Trivial Spam Filter\n",
    "<br>\n",
    "\n",
    "##### Background : Bayes Theorem\n",
    "- Assume we want to find the probability a mail is spam given it has the word \"money\" in it.\n",
    "- Conditional Probability Formula:\n",
    "$$  P(A \\mid B) =  \\frac{P(A \\cap B)}\n",
    "                                {P(B)}   $$\n",
    "- Something to note:\n",
    "$$ P(A \\cap B) = P(B \\cap A) $$\n",
    "\n",
    "- This gives us:\n",
    "$$  P(A \\mid B) P(B)  = P(B \\mid A) P(A) $$\n",
    "- And we have:\n",
    "$$  P(A \\mid B) = \\frac{P(B \\mid A) P(A)}{P(B)} $$\n",
    "<br>\n",
    "$$ P(B \\mid A) = \\frac{P(A \\mid B) P(B)}{P(A)} $$\n",
    "\n",
    "<br>\n",
    "- Now given the question: What is probability message is spam if it contains \"Money\"\n",
    "\n",
    "$$ P(Spam \\mid Money) = \\frac{P(Money \\mid Spam) P(Spam)}{P(Money)}  \n",
    "                      = \\frac{P(Money \\cap Spam) }{P(Money)} \n",
    "                      = \\frac{P(Money \\cap Spam) }{P(Money \\cap Spam) + P(Money \\cap \\neg Spam)} $$\n",
    "\n",
    "|"
   ]
  },
  {
   "cell_type": "markdown",
   "metadata": {},
   "source": [
    "#### Dataset\n",
    "- We have dataset labelled spam and not spam\n",
    "- We can easily find $$ P(Money \\mid Spam) $$ and $$ P(Money \\mid \\neg Spam) $$ using regex \n",
    "- We can also assume that a new message to classify is equally probable to be spam or not $$ P(Spam) = P(\\neg Spam) = 0.5 $$ we have a formula for calculating the probability a mail contaning \"money\" is spam"
   ]
  },
  {
   "cell_type": "markdown",
   "metadata": {},
   "source": []
  },
  {
   "cell_type": "markdown",
   "metadata": {},
   "source": []
  },
  {
   "cell_type": "markdown",
   "metadata": {},
   "source": []
  },
  {
   "cell_type": "markdown",
   "metadata": {},
   "source": []
  },
  {
   "cell_type": "markdown",
   "metadata": {},
   "source": []
  },
  {
   "cell_type": "markdown",
   "metadata": {},
   "source": []
  },
  {
   "cell_type": "markdown",
   "metadata": {},
   "source": []
  },
  {
   "cell_type": "markdown",
   "metadata": {},
   "source": []
  },
  {
   "cell_type": "markdown",
   "metadata": {},
   "source": []
  }
 ],
 "metadata": {
  "kernelspec": {
   "display_name": "Python 3",
   "language": "python",
   "name": "python3"
  },
  "language_info": {
   "codemirror_mode": {
    "name": "ipython",
    "version": 3
   },
   "file_extension": ".py",
   "mimetype": "text/x-python",
   "name": "python",
   "nbconvert_exporter": "python",
   "pygments_lexer": "ipython3",
   "version": "3.7.5"
  }
 },
 "nbformat": 4,
 "nbformat_minor": 2
}
